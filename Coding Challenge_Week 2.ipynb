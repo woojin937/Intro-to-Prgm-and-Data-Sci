{
 "cells": [
  {
   "cell_type": "code",
   "execution_count": null,
   "id": "9f2f6e22",
   "metadata": {},
   "outputs": [],
   "source": [
    "# Chapter 1-(1,6,7):\n",
    "C,B,B"
   ]
  },
  {
   "cell_type": "code",
   "execution_count": 12,
   "id": "f54c4fea",
   "metadata": {
    "scrolled": true
   },
   "outputs": [
    {
     "name": "stdout",
     "output_type": "stream",
     "text": [
      "Enter your name: Chuck\n",
      "Hello Chuck\n"
     ]
    }
   ],
   "source": [
    "# Chapter 2-2:\n",
    "inp = input(\"Enter your name: \")\n",
    "print(\"Hello \" + inp)"
   ]
  },
  {
   "cell_type": "code",
   "execution_count": 23,
   "id": "c993808f",
   "metadata": {},
   "outputs": [
    {
     "name": "stdout",
     "output_type": "stream",
     "text": [
      "Enter Hours: 20\n",
      "Enter Rate: 5\n",
      "100.0\n"
     ]
    }
   ],
   "source": [
    "# Chapter 2-3:\n",
    "a = input(\"Enter Hours: \")\n",
    "b = input(\"Enter Rate: \")\n",
    "\n",
    "fa = float(a) \n",
    "fb = float(b) \n",
    "\n",
    "print(fa*fb)"
   ]
  },
  {
   "cell_type": "code",
   "execution_count": 24,
   "id": "07e7f898",
   "metadata": {},
   "outputs": [
    {
     "name": "stdout",
     "output_type": "stream",
     "text": [
      "8\n",
      "8.5\n",
      "4.0\n",
      "11\n"
     ]
    }
   ],
   "source": [
    "# Chapter 2-4:\n",
    "width=17\n",
    "height=12.0\n",
    "\n",
    "print(width//2) #integer\n",
    "print(width/2.0) #float\n",
    "print(height/3) #float\n",
    "print(1+2*5) #integer"
   ]
  },
  {
   "cell_type": "code",
   "execution_count": 25,
   "id": "f1f05d58",
   "metadata": {},
   "outputs": [
    {
     "name": "stdout",
     "output_type": "stream",
     "text": [
      "Enter Celsius: 32\n",
      "89.6\n"
     ]
    }
   ],
   "source": [
    "# Chapter 2-5:\n",
    "inp = input(\"Enter Celsius: \")\n",
    "cel = float(inp)\n",
    "print(cel * 9/5 + 32) "
   ]
  },
  {
   "cell_type": "code",
   "execution_count": 3,
   "id": "9a173e6d",
   "metadata": {},
   "outputs": [
    {
     "data": {
      "text/plain": [
       "475"
      ]
     },
     "execution_count": 3,
     "metadata": {},
     "output_type": "execute_result"
    }
   ],
   "source": [
    "# Chapter 3-1:\n",
    "def pay_computation(x):\n",
    "    if x<=40:\n",
    "        return x*10\n",
    "    else:\n",
    "        return 40*10+(x-40)*15\n",
    "\n",
    "pay_computation(45)"
   ]
  },
  {
   "cell_type": "code",
   "execution_count": 1,
   "id": "6d0a7655",
   "metadata": {},
   "outputs": [
    {
     "name": "stdout",
     "output_type": "stream",
     "text": [
      "Enter Hours: 10\n",
      "Enter Rate: 3000\n",
      "30000.0\n"
     ]
    }
   ],
   "source": [
    "# Chapter 3-2:\n",
    "inp = input(\"Enter Hours: \")\n",
    "try: \n",
    "    fahr = float(inp) \n",
    "except: \n",
    "    print(\"please enter numeric input\")\n",
    "    \n",
    "\n",
    "inp2 = input(\"Enter Rate: \")\n",
    "try: \n",
    "    far = float(inp2)\n",
    "    cel = fahr*far \n",
    "    print(cel) \n",
    "except: \n",
    "    print(\"please enter numeric input\")\n"
   ]
  },
  {
   "cell_type": "code",
   "execution_count": null,
   "id": "aefe1cea",
   "metadata": {},
   "outputs": [],
   "source": [
    "# Chapter 4-(4,5):\n",
    "d, d"
   ]
  },
  {
   "cell_type": "code",
   "execution_count": 27,
   "id": "d2e30216",
   "metadata": {},
   "outputs": [
    {
     "data": {
      "text/plain": [
       "475"
      ]
     },
     "execution_count": 27,
     "metadata": {},
     "output_type": "execute_result"
    }
   ],
   "source": [
    "# Chapter 4-6:\n",
    "def computepay(hours, rate):\n",
    "    if hours <=40:\n",
    "        return hours*rate\n",
    "    else:\n",
    "        return 40*10+(hours-40)*rate*1.5\n",
    "\n",
    "pay_computation(45)"
   ]
  }
 ],
 "metadata": {
  "kernelspec": {
   "display_name": "Python 3 (ipykernel)",
   "language": "python",
   "name": "python3"
  },
  "language_info": {
   "codemirror_mode": {
    "name": "ipython",
    "version": 3
   },
   "file_extension": ".py",
   "mimetype": "text/x-python",
   "name": "python",
   "nbconvert_exporter": "python",
   "pygments_lexer": "ipython3",
   "version": "3.9.7"
  }
 },
 "nbformat": 4,
 "nbformat_minor": 5
}
